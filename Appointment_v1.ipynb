{
 "cells": [
  {
   "cell_type": "code",
   "execution_count": 1,
   "metadata": {},
   "outputs": [
    {
     "name": "stderr",
     "output_type": "stream",
     "text": [
      "c:\\Users\\VR679RX\\OneDrive - EY\\Documents\\Projects\\Projects - 2024\\LangGraph_Academy\\langgraph\\Lib\\site-packages\\IPython\\core\\interactiveshell.py:3577: LangChainDeprecationWarning: As of langchain-core 0.3.0, LangChain uses pydantic v2 internally. The langchain_core.pydantic_v1 module was a compatibility shim for pydantic v1, and should no longer be used. Please update the code to import from Pydantic directly.\n",
      "\n",
      "For example, replace imports like: `from langchain_core.pydantic_v1 import BaseModel`\n",
      "with: `from pydantic import BaseModel`\n",
      "or the v1 compatibility namespace if you are working in a code base that has not been fully upgraded to pydantic 2 yet. \tfrom pydantic.v1 import BaseModel\n",
      "\n",
      "  exec(code_obj, self.user_global_ns, self.user_ns)\n",
      "c:\\Users\\VR679RX\\OneDrive - EY\\Documents\\Projects\\Projects - 2024\\LangGraph_Academy\\langgraph\\Lib\\site-packages\\IPython\\core\\interactiveshell.py:3577: LangChainDeprecationWarning: As of langchain-core 0.3.0, LangChain uses pydantic v2 internally. The langchain.pydantic_v1 module was a compatibility shim for pydantic v1, and should no longer be used. Please update the code to import from Pydantic directly.\n",
      "\n",
      "For example, replace imports like: `from langchain.pydantic_v1 import BaseModel`\n",
      "with: `from pydantic import BaseModel`\n",
      "or the v1 compatibility namespace if you are working in a code base that has not been fully upgraded to pydantic 2 yet. \tfrom pydantic.v1 import BaseModel\n",
      "\n",
      "  exec(code_obj, self.user_global_ns, self.user_ns)\n"
     ]
    }
   ],
   "source": [
    "#import chainlit as cl\n",
    "import os, getpass\n",
    "env_path = r'C:\\Users\\VR679RX\\OneDrive - EY\\Documents\\Projects\\Projects - 2024\\LangGraph_Academy\\gpt4o.env'\n",
    "from dotenv import load_dotenv\n",
    "import json\n",
    "from langchain_openai import AzureOpenAIEmbeddings, AzureChatOpenAI\n",
    "load_dotenv(env_path)\n",
    "from datetime import datetime\n",
    "from langchain_core.pydantic_v1 import constr, BaseModel, Field, validator\n",
    "from langgraph.graph import MessagesState\n",
    "from langchain_core.messages import HumanMessage, SystemMessage,AIMessage\n",
    "from langchain_core.prompts.chat import ChatPromptTemplate,MessagesPlaceholder\n",
    "from langchain.pydantic_v1 import BaseModel, Field\n",
    "from langchain.tools import StructuredTool\n",
    "from langgraph.graph import START, StateGraph\n",
    "from langgraph.prebuilt import tools_condition\n",
    "from langgraph.prebuilt import ToolNode\n",
    "from langchain_core.runnables import Runnable, RunnableConfig\n",
    "from langchain_community.tools import TavilySearchResults\n",
    "import os\n",
    "from langgraph.prebuilt import create_react_agent\n",
    "from typing import  Literal\n",
    "from langchain_core.tools import tool\n",
    "from langchain.agents.openai_tools.base import create_openai_tools_agent\n",
    "from langchain.agents.agent import AgentExecutor\n",
    "import shutil\n",
    "import sqlite3\n",
    "import functools\n",
    "import pandas as pd\n",
    "import requests"
   ]
  },
  {
   "cell_type": "code",
   "execution_count": 2,
   "metadata": {},
   "outputs": [],
   "source": [
    "llm = AzureChatOpenAI(temperature=0,\n",
    "                           api_key=os.getenv('AZURE_OPENAI_API_KEY'),\n",
    "                           azure_endpoint=os.getenv('AZURE_OPENAI_ENDPOINT'),\n",
    "                           openai_api_version=os.getenv('AZURE_OPENAI_VERSION'),\n",
    "                           azure_deployment=os.getenv('AZURE_GPT4O_MODEL')\n",
    "                           )\n",
    "\n",
    "embeddings = AzureOpenAIEmbeddings(\n",
    "                            api_key=os.getenv('AZURE_OPENAI_API_KEY'),\n",
    "                            azure_endpoint=os.getenv('AZURE_OPENAI_ENDPOINT'),\n",
    "                            azure_deployment=os.getenv('AZURE_OPENAI_EMBEDDINGS_MODEL'),\n",
    "                            openai_api_version=os.getenv('AZURE_OPENAI_VERSION'),\n",
    "                            )"
   ]
  },
  {
   "cell_type": "code",
   "execution_count": 3,
   "metadata": {},
   "outputs": [],
   "source": [
    "\n",
    "from langchain_core.pydantic_v1 import constr, BaseModel, Field, validator\n",
    "import re\n",
    "\n",
    "\n",
    "class DateTimeModel(BaseModel):\n",
    "    \"\"\"\n",
    "    The way the date should be structured and formatted\n",
    "    \"\"\"\n",
    "    date: str = Field(..., description=\"Propertly formatted date\", pattern=r'^\\d{4}-\\d{2}-\\d{2} \\d{2}:\\d{2}$')\n",
    "\n",
    "    @validator(\"date\")\n",
    "    def check_format_date(cls, v):\n",
    "        if not re.match(r'^\\d{4}-\\d{2}-\\d{2} \\d{2}:\\d{2}$', v):\n",
    "            raise ValueError(\"The date should be in format 'YYYY-MM-DD HH:MM'\")\n",
    "        return v\n",
    "    \n",
    "class DateModel(BaseModel):\n",
    "    \"\"\"\n",
    "    The way the date should be structured and formatted\n",
    "    \"\"\"\n",
    "    date: str = Field(..., description=\"Propertly formatted date\", pattern=r'^\\d{2}-\\d{2}-\\d{4}$')\n",
    "\n",
    "    @validator(\"date\")\n",
    "    def check_format_date(cls, v):\n",
    "        if not re.match(r'^\\d{2}-\\d{2}-\\d{4}$', v):\n",
    "            raise ValueError(\"The date must be in the format 'YYYY-MM-DD'\")\n",
    "        return v\n",
    "\n",
    "    \n",
    "class IdentificationNumberModel(BaseModel):\n",
    "    \"\"\"\n",
    "    The way the ID should be structured and formatted\n",
    "    \"\"\"\n",
    "    id: int = Field(..., description=\"identification number without dots\", pattern=r'^\\d{7,8}$')\n",
    "\n",
    "    @validator(\"id\")\n",
    "    def check_format_id(cls, v):\n",
    "        if not re.match(r'^\\d{7,8}$',str(v)):\n",
    "            raise ValueError(\"The ID number should be a number of 7 or 8 numbers\")\n",
    "        return v"
   ]
  },
  {
   "cell_type": "code",
   "execution_count": 4,
   "metadata": {},
   "outputs": [],
   "source": [
    "@tool\n",
    "def check_availability_by_doctor(desired_date:DateModel, doctor_name:Literal['kevin anderson','robert martinez','susan davis','daniel miller','sarah wilson','michael green','lisa brown','jane smith','emily johnson','john doe']):\n",
    "    \"\"\"\n",
    "    Checking the database if we have availability for the specific doctor.\n",
    "    The parameters should be mentioned by the user in the query\n",
    "    \"\"\"\n",
    "    #Dummy data\n",
    "    df = pd.read_csv(f\"availability.csv\")\n",
    "    df['date_slot_time'] = df['date_slot'].apply(lambda input: input.split(' ')[-1])\n",
    "    rows = list(df[(df['date_slot'].apply(lambda input: input.split(' ')[0]) == desired_date.date)&(df['doctor_name'] == doctor_name)&(df['is_available'] == True)]['date_slot_time'])\n",
    "\n",
    "    if len(rows) == 0:\n",
    "        output = \"No availability in the entire day\"\n",
    "    else:\n",
    "        output = f'This availability for {desired_date.date}\\n'\n",
    "        output += \"Available slots: \" + ', '.join(rows)\n",
    "\n",
    "    return output\n",
    "\n",
    "@tool\n",
    "def check_availability_by_specialization(desired_date:DateModel, specialization:Literal[\"general_dentist\", \"cosmetic_dentist\", \"prosthodontist\", \"pediatric_dentist\",\"emergency_dentist\",\"oral_surgeon\",\"orthodontist\"]):\n",
    "    \"\"\"\n",
    "    Checking the database if we have availability for the specific specialization.\n",
    "    The parameters should be mentioned by the user in the query\n",
    "    \"\"\"\n",
    "    #Dummy data\n",
    "    df = pd.read_csv(f\"availability.csv\")\n",
    "    df['date_slot_time'] = df['date_slot'].apply(lambda input: input.split(' ')[-1])\n",
    "    rows = df[(df['date_slot'].apply(lambda input: input.split(' ')[0]) == desired_date.date) & (df['specialization'] == specialization) & (df['is_available'] == True)].groupby(['specialization', 'doctor_name'])['date_slot_time'].apply(list).reset_index(name='available_slots')\n",
    "\n",
    "    if len(rows) == 0:\n",
    "        output = \"No availability in the entire day\"\n",
    "    else:\n",
    "        def convert_to_am_pm(time_str):\n",
    "            # Split the time string into hours and minutes\n",
    "            time_str = str(time_str)\n",
    "            hours, minutes = map(int, time_str.split(\".\"))\n",
    "            \n",
    "            # Determine AM or PM\n",
    "            period = \"AM\" if hours < 12 else \"PM\"\n",
    "            \n",
    "            # Convert hours to 12-hour format\n",
    "            hours = hours % 12 or 12\n",
    "            \n",
    "            # Format the output\n",
    "            return f\"{hours}:{minutes:02d} {period}\"\n",
    "        output = f'This availability for {desired_date.date}\\n'\n",
    "        for row in rows.values:\n",
    "            output += row[1] + \". Available slots: \\n\" + ', \\n'.join([convert_to_am_pm(value)for value in row[2]])+'\\n'\n",
    "\n",
    "    return output"
   ]
  },
  {
   "cell_type": "code",
   "execution_count": 194,
   "metadata": {},
   "outputs": [],
   "source": [
    "@tool\n",
    "def reschedule_appointment(old_date:DateTimeModel, new_date:DateTimeModel, id_number:IdentificationNumberModel, doctor_name:Literal['kevin anderson','robert martinez','susan davis','daniel miller','sarah wilson','michael green','lisa brown','jane smith','emily johnson','john doe']):\n",
    "    \"\"\"\n",
    "    Rescheduling an appointment.\n",
    "    The parameters MUST be mentioned by the user in the query.\n",
    "    \"\"\"\n",
    "    #Dummy data\n",
    "    df = pd.read_csv(f'availability.csv')\n",
    "    available_for_desired_date = df[(df['date_slot'] == new_date.date)&(df['is_available'] == True)&(df['doctor_name'] == doctor_name)]\n",
    "    if len(available_for_desired_date) == 0:\n",
    "        return \"Not available slots in the desired period\"\n",
    "    else:\n",
    "        cancel_appointment.invoke({'date':old_date, 'id_number':id_number, 'doctor_name':doctor_name})\n",
    "        set_appointment.invoke({'desired_date':new_date, 'id_number': id_number, 'doctor_name': doctor_name})\n",
    "        return \"Succesfully rescheduled for the desired time\"\n",
    "\n",
    "@tool\n",
    "def cancel_appointment(date:DateTimeModel, id_number:IdentificationNumberModel, doctor_name:Literal['kevin anderson','robert martinez','susan davis','daniel miller','sarah wilson','michael green','lisa brown','jane smith','emily johnson','john doe']):\n",
    "    \"\"\"\n",
    "    Canceling an appointment.\n",
    "    The parameters MUST be mentioned by the user in the query.\n",
    "    \"\"\"\n",
    "    df = pd.read_csv(f'availability.csv')\n",
    "    case_to_remove = df[(df['date_slot'] == date.date)&(df['patient_to_attend'] == id_number.id)&(df['doctor_name'] == doctor_name)]\n",
    "    if len(case_to_remove) == 0:\n",
    "        return \"You don´t have any appointment with that specifications\"\n",
    "    else:\n",
    "        df.loc[(df['date_slot'] == date.date) & (df['patient_to_attend'] == id_number.id) & (df['doctor_name'] == doctor_name), ['is_available', 'patient_to_attend']] = [True, None]\n",
    "        df.to_csv(f'availability.csv', index = False)\n",
    "\n",
    "        return \"Succesfully cancelled\"\n",
    "    \n",
    "\n",
    "@tool\n",
    "def set_appointment(desired_date:DateTimeModel, id_number:IdentificationNumberModel, doctor_name:Literal['kevin anderson','robert martinez','susan davis','daniel miller','sarah wilson','michael green','lisa brown','jane smith','emily johnson','john doe']):\n",
    "    \"\"\"\n",
    "    Set appointment or slot with the doctor.\n",
    "    The parameters MUST be mentioned by the user in the query.\n",
    "    \"\"\"\n",
    "    df = pd.read_csv(f'availability.csv')\n",
    "    from datetime import datetime\n",
    "\n",
    "\n",
    "    def convert_datetime_format(dt_str):\n",
    "        # Parse the input datetime string\n",
    "        dt = datetime.strptime(dt_str, \"%Y-%m-%d %H:%M\")\n",
    "        \n",
    "        # Format the output as 'DD-MM-YYYY H.M' (removing leading zero from hour only)\n",
    "        return dt.strftime(\"%d-%m-%Y %#H.%M\")\n",
    "    \n",
    "    case = df[(df['date_slot'] == convert_datetime_format(desired_date.date))&(df['doctor_name'] == doctor_name)&(df['is_available'] == True)]\n",
    "    if len(case) == 0:\n",
    "        return \"No available appointments for that particular case\"\n",
    "    else:\n",
    "        df.loc[(df['date_slot'] == convert_datetime_format(desired_date.date))&(df['doctor_name'] == doctor_name) & (df['is_available'] == True), ['is_available','patient_to_attend']] = [False, id_number.id]\n",
    "        df.to_csv(f'availability.csv', index = False)\n",
    "\n",
    "        return \"Succesfully done\""
   ]
  },
  {
   "cell_type": "code",
   "execution_count": 6,
   "metadata": {},
   "outputs": [],
   "source": [
    "from typing import Literal\n",
    "from typing_extensions import TypedDict, Annotated\n",
    "from langgraph.graph import MessagesState, END\n",
    "from langgraph.types import Command\n",
    "from langgraph.checkpoint.memory import MemorySaver"
   ]
  },
  {
   "cell_type": "code",
   "execution_count": 146,
   "metadata": {},
   "outputs": [],
   "source": [
    "def create_agent(llm:AzureChatOpenAI,tools:list,system_prompt:str):\n",
    "    system_prompt = ChatPromptTemplate.from_messages(\n",
    "            [\n",
    "                (\n",
    "                    \"system\",\n",
    "                    system_prompt\n",
    "                ),\n",
    "                (\"placeholder\", \"{messages}\"),\n",
    "            ]\n",
    "        )\n",
    "    agent = create_react_agent(model=llm,tools=tools,prompt=system_prompt)\n",
    "    return agent\n"
   ]
  },
  {
   "cell_type": "code",
   "execution_count": 152,
   "metadata": {},
   "outputs": [],
   "source": [
    "class AgentState(MessagesState):\n",
    "    id_number:IdentificationNumberModel\n",
    "    query:str\n",
    "    next:str\n",
    "    cur_reasoning:str"
   ]
  },
  {
   "cell_type": "code",
   "execution_count": 153,
   "metadata": {},
   "outputs": [],
   "source": [
    "information_agent = create_agent(\n",
    "                        llm=llm,\n",
    "                        tools=[check_availability_by_doctor,check_availability_by_specialization],\n",
    "                        system_prompt = \"You are specialized agent to provide information related to availbility of doctors or any FAQs related to hospital based on the query. You have access to the tool.\\n Make sure to ask user politely if you need any further information to execute the tool.\\n For your information, Always consider current year is 2024.\"\n",
    "                )\n",
    "\n",
    "booking_agent = create_agent(\n",
    "                        llm=llm,\n",
    "                        tools=[set_appointment,cancel_appointment,reschedule_appointment],\n",
    "                        system_prompt = \"You are specialized agent to set, cancel or reschedule appointment based on the query. You have access to the tool.\\n Make sure to ask user politely if you need any further information to execute the tool.\\n For your information, Always consider current year is 2024.\"\n",
    "                )\n"
   ]
  },
  {
   "cell_type": "code",
   "execution_count": 154,
   "metadata": {},
   "outputs": [],
   "source": [
    "def information_node(state: AgentState):\n",
    "    result = information_agent.invoke(state)\n",
    "    return Command(\n",
    "        update={\n",
    "            \"messages\": state[\"messages\"] + [\n",
    "                AIMessage(content=result[\"messages\"][-1].content, name=\"information_node\")\n",
    "            ]\n",
    "        },\n",
    "        goto=\"supervisor\",\n",
    "    )\n",
    "\n",
    "def booking_node(state: AgentState):\n",
    "    result = booking_agent.invoke(state)\n",
    "    return Command(\n",
    "        update={\n",
    "            \"messages\": state[\"messages\"] + [\n",
    "                AIMessage(content=result[\"messages\"][-1].content, name=\"booking_node\")\n",
    "            ]\n",
    "        },\n",
    "        goto=\"supervisor\",\n",
    "    )\n"
   ]
  },
  {
   "cell_type": "code",
   "execution_count": 155,
   "metadata": {},
   "outputs": [],
   "source": [
    "members_dict = {'information_node':'specialized agent to provide information related to availbility of doctors or any FAQs related to hospital.','booking_node':'specialized agent to only to book, cancel or reschedule appointment'}\n",
    "options = list(members_dict.keys()) + [\"FINISH\"]\n",
    "worker_info = '\\n\\n'.join([f'WORKER: {member} \\nDESCRIPTION: {description}' for member, description in members_dict.items()]) + '\\n\\nWORKER: FINISH \\nDESCRIPTION: If User Query is answered and route to Finished'"
   ]
  },
  {
   "cell_type": "code",
   "execution_count": 156,
   "metadata": {},
   "outputs": [
    {
     "data": {
      "text/plain": [
       "['information_node', 'booking_node', 'FINISH']"
      ]
     },
     "execution_count": 156,
     "metadata": {},
     "output_type": "execute_result"
    }
   ],
   "source": [
    "options"
   ]
  },
  {
   "cell_type": "code",
   "execution_count": 157,
   "metadata": {},
   "outputs": [],
   "source": [
    "system_prompt = (\n",
    "    \"You are a supervisor tasked with managing a conversation between following workers. \"\n",
    "    \"### SPECIALIZED ASSISTANT:\\n\"\n",
    "    f\"{worker_info}\\n\\n\"\n",
    "    \"Your primary role is to help the user make an appointment with the doctor and provide updates on FAQs and doctor's availability. \"\n",
    "    \"If a customer requests to know the availability of a doctor or to book, reschedule, or cancel an appointment, \"\n",
    "    \"delegate the task to the appropriate specialized workers. Given the following user request,\"\n",
    "    \" respond with the worker to act next. Each worker will perform a\"\n",
    "    \" task and respond with their results and status. When finished,\"\n",
    "    \" respond with FINISH.\"\n",
    "    \"UTILIZE last conversation to assess if the conversation should end you answered the query, then route to FINISH \"\n",
    "     )\n",
    "\n"
   ]
  },
  {
   "cell_type": "code",
   "execution_count": 158,
   "metadata": {},
   "outputs": [],
   "source": [
    "class Router(TypedDict):\n",
    "    \"\"\"Worker to route to next. If no workers needed, route to FINISH. and provide reasoning for the routing\"\"\"\n",
    "\n",
    "    next: Annotated[Literal[*options], ..., \"worker to route to next, route to FINISH\"]\n",
    "    reasoning: Annotated[str, ..., \"Support proper reasoning for routing to the worker\"]"
   ]
  },
  {
   "cell_type": "code",
   "execution_count": 159,
   "metadata": {},
   "outputs": [],
   "source": [
    "def supervisor_node(state: AgentState) -> Command[Literal[*list(members_dict.keys()), \"__end__\"]]:\n",
    "    messages = [\n",
    "        {\"role\": \"system\", \"content\": system_prompt},\n",
    "        #{\"role\": \"user\", \"content\": f\"user's identification number is {state['id_number']}\"},\n",
    "    ] + [state[\"messages\"][-1]]\n",
    "    query = ''\n",
    "    if len(state['messages'])==1:\n",
    "        query = state['messages'][0].content\n",
    "    response = llm.with_structured_output(Router).invoke(messages)\n",
    "    goto = response[\"next\"]\n",
    "    if goto == \"FINISH\":\n",
    "        goto = END\n",
    "    if query:\n",
    "        return Command(goto=goto, update={\"next\": goto,'query':query,'cur_reasoning':response[\"reasoning\"],\n",
    "                                    \"messages\":[HumanMessage(content=f\"user's identification number is {state['id_number']}\")]\n",
    "                        })\n",
    "    return Command(goto=goto, update={\"next\": goto,'cur_reasoning':response[\"reasoning\"]})"
   ]
  },
  {
   "cell_type": "code",
   "execution_count": 160,
   "metadata": {},
   "outputs": [],
   "source": [
    "builder = StateGraph(AgentState)\n",
    "builder.add_edge(START, \"supervisor\")\n",
    "builder.add_node(\"supervisor\", supervisor_node)\n",
    "builder.add_node(\"information_node\", information_node)\n",
    "builder.add_node(\"booking_node\", booking_node)\n",
    "graph = builder.compile()"
   ]
  },
  {
   "cell_type": "code",
   "execution_count": 161,
   "metadata": {},
   "outputs": [
    {
     "data": {
      "image/png": "[encoded data removed]",
      "text/plain": [
       "<IPython.core.display.Image object>"
      ]
     },
     "metadata": {},
     "output_type": "display_data"
    }
   ],
   "source": [
    "from IPython.display import display, Image\n",
    "\n",
    "display(Image(graph.get_graph().draw_mermaid_png()))"
   ]
  },
  {
   "cell_type": "code",
   "execution_count": 199,
   "metadata": {},
   "outputs": [],
   "source": [
    "inputs = [\n",
    "        HumanMessage(content='can you reschedule my appointment with Jane smith at 8 August 2024 at 9 AM to 9 Auguest at same time?')\n",
    "    ]\n",
    "\n",
    "config = {\"configurable\": {\"thread_id\": \"1\", \"recursion_limit\": 10}}  \n",
    "\n",
    "state = {'messages': inputs,'id_number':10232303}"
   ]
  },
  {
   "cell_type": "code",
   "execution_count": 200,
   "metadata": {},
   "outputs": [],
   "source": [
    "result = graph.invoke(input=state,config=config)"
   ]
  },
  {
   "cell_type": "code",
   "execution_count": 197,
   "metadata": {},
   "outputs": [],
   "source": [
    "# events = []\n",
    "# async for event in graph.astream_events(input=state, config=config,version=\"v1\"):\n",
    "#     print(event)\n",
    "#     events.append(event)"
   ]
  },
  {
   "cell_type": "code",
   "execution_count": 201,
   "metadata": {},
   "outputs": [
    {
     "data": {
      "text/plain": [
       "{'messages': [HumanMessage(content='can you reschedule my appointment with Jane smith at 8 August 2024 at 9 AM to 9 Auguest at same time?', additional_kwargs={}, response_metadata={}, id='482ef00b-f4a5-43fa-8dd4-6dde4041648f'),\n",
       "  HumanMessage(content=\"user's identification number is 10232303\", additional_kwargs={}, response_metadata={}, id='acc6a469-664d-48d2-b60d-e782737f75b6'),\n",
       "  AIMessage(content='It appears that there are no available slots for Dr. Jane Smith on August 9, 2024, at 9:00 AM.\\n\\nWould you like to choose a different date or time for the rescheduling?', additional_kwargs={}, response_metadata={}, name='booking_node', id='0886dcbe-1922-4cca-a588-3f6b2a13d4a1'),\n",
       "  AIMessage(content='I can help you with that. To confirm, you would like to reschedule your appointment with Dr. Jane Smith from August 8, 2024, at 9:00 AM to August 9, 2024, at the same time. Is that correct?', additional_kwargs={}, response_metadata={}, name='booking_node', id='ffaf3abb-4293-4a57-9fd0-3b612b47c24f'),\n",
       "  AIMessage(content='It appears that there are no available slots for Dr. Jane Smith on August 9, 2024, at 9:00 AM.\\n\\nWould you like to choose a different date or time for the rescheduling?', additional_kwargs={}, response_metadata={}, name='booking_node', id='d9e0be7a-0562-4c18-a57a-7cdd554fe587'),\n",
       "  AIMessage(content='I can help you with that. To confirm, you would like to reschedule your appointment with Dr. Jane Smith from August 8, 2024, at 9:00 AM to August 9, 2024, at the same time. Is that correct?', additional_kwargs={}, response_metadata={}, name='booking_node', id='cd91927c-8de9-4209-924c-e4d6d22c8dff'),\n",
       "  AIMessage(content='It appears that there are no available slots for Dr. Jane Smith on August 9, 2024, at 9:00 AM.\\n\\nWould you like to choose a different date or time for the rescheduling?', additional_kwargs={}, response_metadata={}, name='booking_node', id='af0717c0-2bbe-4ef7-acef-9f2aaeb84f44')],\n",
       " 'id_number': 10232303,\n",
       " 'query': 'can you reschedule my appointment with Jane smith at 8 August 2024 at 9 AM to 9 Auguest at same time?',\n",
       " 'next': '__end__',\n",
       " 'cur_reasoning': \"The user's query about rescheduling the appointment has been answered, and they have been informed about the unavailability of the requested slot. The conversation can be concluded.\"}"
      ]
     },
     "execution_count": 201,
     "metadata": {},
     "output_type": "execute_result"
    }
   ],
   "source": [
    "result"
   ]
  },
  {
   "cell_type": "code",
   "execution_count": 193,
   "metadata": {},
   "outputs": [
    {
     "name": "stdout",
     "output_type": "stream",
     "text": [
      "supervisor\n",
      "can you check and make a booking if any cosmetic dentist available on 8 August 2024 at 9 AM?\n",
      "-------\n",
      "information_node\n",
      "user's identification number is 10232303\n",
      "-------\n",
      "supervisor\n",
      "Both Dr. Jane Smith and Dr. Lisa Brown, who are cosmetic dentists, have availability on 8th August 2024. Specifically, Dr. Jane Smith is available at 9:00 AM.\n",
      "\n",
      "Would you like to proceed with booking an appointment with Dr. Jane Smith at 9:00 AM?\n",
      "-------\n",
      "booking_node\n",
      "Both Dr. Jane Smith and Dr. Lisa Brown, who are cosmetic dentists, have availability on 8th August 2024. Specifically, Dr. Jane Smith is available at 9:00 AM.\n",
      "\n",
      "Would you like to proceed with booking an appointment with Dr. Jane Smith at 9:00 AM?\n",
      "-------\n",
      "supervisor\n",
      "Your appointment with Dr. Jane Smith has been successfully booked for 8th August 2024 at 9:00 AM.\n",
      "-------\n"
     ]
    }
   ],
   "source": [
    "for event in events:\n",
    "    if event['event']=='on_chain_end' and event['name'] in ['supervisor']+options:\n",
    "        #print(event)\n",
    "        print(event['name'])\n",
    "        print(event['data']['input']['messages'][-1].content)\n",
    "        print('-------')"
   ]
  },
  {
   "cell_type": "code",
   "execution_count": 207,
   "metadata": {},
   "outputs": [
    {
     "name": "stdout",
     "output_type": "stream",
     "text": [
      "supervisor\n",
      "-------\n",
      "information_node\n",
      "-------\n",
      "supervisor\n",
      "-------\n",
      "booking_node\n",
      "-------\n",
      "supervisor\n",
      "-------\n"
     ]
    }
   ],
   "source": [
    "event_dict = {}\n",
    "event_result = ''\n",
    "for event in events:\n",
    "    if event['event']=='on_chain_end' and event['name'] in ['supervisor'] + options:\n",
    "        print(event['name'])\n",
    "        event_dict[event['run_id']] = event['name']\n",
    "        event_result = event['data']['input']['messages'][-1].content\n",
    "        #print(event['data']['input']['messages'][-1].content)\n",
    "        print('-------')"
   ]
  },
  {
   "cell_type": "code",
   "execution_count": 208,
   "metadata": {},
   "outputs": [
    {
     "data": {
      "text/plain": [
       "'Your appointment with Dr. Jane Smith has been successfully booked for 8th August 2024 at 9:00 AM.'"
      ]
     },
     "execution_count": 208,
     "metadata": {},
     "output_type": "execute_result"
    }
   ],
   "source": [
    "event_result"
   ]
  },
  {
   "cell_type": "code",
   "execution_count": null,
   "metadata": {},
   "outputs": [],
   "source": []
  }
 ],
 "metadata": {
  "kernelspec": {
   "display_name": "langgraph",
   "language": "python",
   "name": "python3"
  },
  "language_info": {
   "codemirror_mode": {
    "name": "ipython",
    "version": 3
   },
   "file_extension": ".py",
   "mimetype": "text/x-python",
   "name": "python",
   "nbconvert_exporter": "python",
   "pygments_lexer": "ipython3",
   "version": "3.12.9"
  }
 },
 "nbformat": 4,
 "nbformat_minor": 2
}
